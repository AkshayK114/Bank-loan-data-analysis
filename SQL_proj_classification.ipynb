{
 "cells": [
  {
   "cell_type": "code",
   "execution_count": 1,
   "id": "a0b44b2a",
   "metadata": {},
   "outputs": [],
   "source": [
    "import pandas as pd\n",
    "import pyodbc\n",
    "from sklearn.neighbors import KNeighborsClassifier\n",
    "from sklearn.metrics import accuracy_score\n",
    "import matplotlib.pyplot as plt\n",
    "import numpy as np\n",
    "from matplotlib.pylab import rcParams\n",
    "rcParams['figure.figsize'] = 20, 10"
   ]
  },
  {
   "cell_type": "code",
   "execution_count": 2,
   "id": "d71f8e47",
   "metadata": {},
   "outputs": [],
   "source": [
    "server = 'LAPTOP-76EGVTT7\\SQLEXPRESS'\n",
    "db = 'project'"
   ]
  },
  {
   "cell_type": "code",
   "execution_count": 8,
   "id": "ec94c8ed",
   "metadata": {},
   "outputs": [],
   "source": [
    "conn = pyodbc.connect ('DRIVER= {SQL Server}; SERVER='+server+';DATABASE='+db+ ';UID=Akshay112;PWD=Akshay112; Trusted connection=YES')\n"
   ]
  },
  {
   "cell_type": "code",
   "execution_count": 9,
   "id": "b287890b",
   "metadata": {},
   "outputs": [],
   "source": [
    "sql= \"select * from acc_ord_card_disp_client_dist aocdcd join loan_trans lt on lt.account_id= aocdcd.account_id\"\n"
   ]
  },
  {
   "cell_type": "code",
   "execution_count": 10,
   "id": "6d18e718",
   "metadata": {},
   "outputs": [
    {
     "name": "stderr",
     "output_type": "stream",
     "text": [
      "C:\\Users\\akshay\\anaconda3\\lib\\site-packages\\pandas\\io\\sql.py:762: UserWarning: pandas only support SQLAlchemy connectable(engine/connection) ordatabase string URI or sqlite3 DBAPI2 connectionother DBAPI2 objects are not tested, please consider using SQLAlchemy\n",
      "  warnings.warn(\n"
     ]
    },
    {
     "data": {
      "text/html": [
       "<div>\n",
       "<style scoped>\n",
       "    .dataframe tbody tr th:only-of-type {\n",
       "        vertical-align: middle;\n",
       "    }\n",
       "\n",
       "    .dataframe tbody tr th {\n",
       "        vertical-align: top;\n",
       "    }\n",
       "\n",
       "    .dataframe thead th {\n",
       "        text-align: right;\n",
       "    }\n",
       "</style>\n",
       "<table border=\"1\" class=\"dataframe\">\n",
       "  <thead>\n",
       "    <tr style=\"text-align: right;\">\n",
       "      <th></th>\n",
       "      <th>card_id</th>\n",
       "      <th>disp_id</th>\n",
       "      <th>type</th>\n",
       "      <th>issued</th>\n",
       "      <th>account_id</th>\n",
       "      <th>disposition_client_id</th>\n",
       "      <th>disposition_type</th>\n",
       "      <th>client_id</th>\n",
       "      <th>birth_number</th>\n",
       "      <th>district_id</th>\n",
       "      <th>...</th>\n",
       "      <th>balance</th>\n",
       "      <th>k_symbol</th>\n",
       "      <th>bank</th>\n",
       "      <th>account</th>\n",
       "      <th>loan_id</th>\n",
       "      <th>loan_date</th>\n",
       "      <th>loan_amount</th>\n",
       "      <th>duration</th>\n",
       "      <th>payments</th>\n",
       "      <th>status</th>\n",
       "    </tr>\n",
       "  </thead>\n",
       "  <tbody>\n",
       "    <tr>\n",
       "      <th>0</th>\n",
       "      <td>159</td>\n",
       "      <td>946</td>\n",
       "      <td>classic</td>\n",
       "      <td>950501 00:00:00</td>\n",
       "      <td>790</td>\n",
       "      <td>946</td>\n",
       "      <td>OWNER</td>\n",
       "      <td>946</td>\n",
       "      <td>510806</td>\n",
       "      <td>54</td>\n",
       "      <td>...</td>\n",
       "      <td>300.000000</td>\n",
       "      <td>None</td>\n",
       "      <td>None</td>\n",
       "      <td>NaN</td>\n",
       "      <td>5126</td>\n",
       "      <td>1994-07-24</td>\n",
       "      <td>208128</td>\n",
       "      <td>48</td>\n",
       "      <td>4336.0</td>\n",
       "      <td>B</td>\n",
       "    </tr>\n",
       "    <tr>\n",
       "      <th>1</th>\n",
       "      <td>159</td>\n",
       "      <td>946</td>\n",
       "      <td>classic</td>\n",
       "      <td>950501 00:00:00</td>\n",
       "      <td>790</td>\n",
       "      <td>946</td>\n",
       "      <td>OWNER</td>\n",
       "      <td>946</td>\n",
       "      <td>510806</td>\n",
       "      <td>54</td>\n",
       "      <td>...</td>\n",
       "      <td>9900.000000</td>\n",
       "      <td>None</td>\n",
       "      <td>None</td>\n",
       "      <td>NaN</td>\n",
       "      <td>5126</td>\n",
       "      <td>1994-07-24</td>\n",
       "      <td>208128</td>\n",
       "      <td>48</td>\n",
       "      <td>4336.0</td>\n",
       "      <td>B</td>\n",
       "    </tr>\n",
       "    <tr>\n",
       "      <th>2</th>\n",
       "      <td>159</td>\n",
       "      <td>946</td>\n",
       "      <td>classic</td>\n",
       "      <td>950501 00:00:00</td>\n",
       "      <td>790</td>\n",
       "      <td>946</td>\n",
       "      <td>OWNER</td>\n",
       "      <td>946</td>\n",
       "      <td>510806</td>\n",
       "      <td>54</td>\n",
       "      <td>...</td>\n",
       "      <td>42599.000000</td>\n",
       "      <td>None</td>\n",
       "      <td>None</td>\n",
       "      <td>NaN</td>\n",
       "      <td>5126</td>\n",
       "      <td>1994-07-24</td>\n",
       "      <td>208128</td>\n",
       "      <td>48</td>\n",
       "      <td>4336.0</td>\n",
       "      <td>B</td>\n",
       "    </tr>\n",
       "    <tr>\n",
       "      <th>3</th>\n",
       "      <td>159</td>\n",
       "      <td>946</td>\n",
       "      <td>classic</td>\n",
       "      <td>950501 00:00:00</td>\n",
       "      <td>790</td>\n",
       "      <td>946</td>\n",
       "      <td>OWNER</td>\n",
       "      <td>946</td>\n",
       "      <td>510806</td>\n",
       "      <td>54</td>\n",
       "      <td>...</td>\n",
       "      <td>42658.199219</td>\n",
       "      <td>UROK</td>\n",
       "      <td>None</td>\n",
       "      <td>NaN</td>\n",
       "      <td>5126</td>\n",
       "      <td>1994-07-24</td>\n",
       "      <td>208128</td>\n",
       "      <td>48</td>\n",
       "      <td>4336.0</td>\n",
       "      <td>B</td>\n",
       "    </tr>\n",
       "    <tr>\n",
       "      <th>4</th>\n",
       "      <td>159</td>\n",
       "      <td>946</td>\n",
       "      <td>classic</td>\n",
       "      <td>950501 00:00:00</td>\n",
       "      <td>790</td>\n",
       "      <td>946</td>\n",
       "      <td>OWNER</td>\n",
       "      <td>946</td>\n",
       "      <td>510806</td>\n",
       "      <td>54</td>\n",
       "      <td>...</td>\n",
       "      <td>48117.199219</td>\n",
       "      <td>None</td>\n",
       "      <td>None</td>\n",
       "      <td>NaN</td>\n",
       "      <td>5126</td>\n",
       "      <td>1994-07-24</td>\n",
       "      <td>208128</td>\n",
       "      <td>48</td>\n",
       "      <td>4336.0</td>\n",
       "      <td>B</td>\n",
       "    </tr>\n",
       "    <tr>\n",
       "      <th>...</th>\n",
       "      <td>...</td>\n",
       "      <td>...</td>\n",
       "      <td>...</td>\n",
       "      <td>...</td>\n",
       "      <td>...</td>\n",
       "      <td>...</td>\n",
       "      <td>...</td>\n",
       "      <td>...</td>\n",
       "      <td>...</td>\n",
       "      <td>...</td>\n",
       "      <td>...</td>\n",
       "      <td>...</td>\n",
       "      <td>...</td>\n",
       "      <td>...</td>\n",
       "      <td>...</td>\n",
       "      <td>...</td>\n",
       "      <td>...</td>\n",
       "      <td>...</td>\n",
       "      <td>...</td>\n",
       "      <td>...</td>\n",
       "      <td>...</td>\n",
       "    </tr>\n",
       "    <tr>\n",
       "      <th>863</th>\n",
       "      <td>1223</td>\n",
       "      <td>13231</td>\n",
       "      <td>junior</td>\n",
       "      <td>950502 00:00:00</td>\n",
       "      <td>11013</td>\n",
       "      <td>13539</td>\n",
       "      <td>OWNER</td>\n",
       "      <td>13539</td>\n",
       "      <td>780907</td>\n",
       "      <td>63</td>\n",
       "      <td>...</td>\n",
       "      <td>94294.000000</td>\n",
       "      <td>None</td>\n",
       "      <td>YZ</td>\n",
       "      <td>45816707.0</td>\n",
       "      <td>7240</td>\n",
       "      <td>1993-09-06</td>\n",
       "      <td>274740</td>\n",
       "      <td>60</td>\n",
       "      <td>4579.0</td>\n",
       "      <td>A</td>\n",
       "    </tr>\n",
       "    <tr>\n",
       "      <th>864</th>\n",
       "      <td>1223</td>\n",
       "      <td>13231</td>\n",
       "      <td>junior</td>\n",
       "      <td>950502 00:00:00</td>\n",
       "      <td>11013</td>\n",
       "      <td>13539</td>\n",
       "      <td>OWNER</td>\n",
       "      <td>13539</td>\n",
       "      <td>780907</td>\n",
       "      <td>63</td>\n",
       "      <td>...</td>\n",
       "      <td>59294.000000</td>\n",
       "      <td>None</td>\n",
       "      <td>None</td>\n",
       "      <td>NaN</td>\n",
       "      <td>7240</td>\n",
       "      <td>1993-09-06</td>\n",
       "      <td>274740</td>\n",
       "      <td>60</td>\n",
       "      <td>4579.0</td>\n",
       "      <td>A</td>\n",
       "    </tr>\n",
       "    <tr>\n",
       "      <th>865</th>\n",
       "      <td>1223</td>\n",
       "      <td>13231</td>\n",
       "      <td>junior</td>\n",
       "      <td>950502 00:00:00</td>\n",
       "      <td>11013</td>\n",
       "      <td>13539</td>\n",
       "      <td>OWNER</td>\n",
       "      <td>13539</td>\n",
       "      <td>780907</td>\n",
       "      <td>63</td>\n",
       "      <td>...</td>\n",
       "      <td>59527.101562</td>\n",
       "      <td>UROK</td>\n",
       "      <td>None</td>\n",
       "      <td>NaN</td>\n",
       "      <td>7240</td>\n",
       "      <td>1993-09-06</td>\n",
       "      <td>274740</td>\n",
       "      <td>60</td>\n",
       "      <td>4579.0</td>\n",
       "      <td>A</td>\n",
       "    </tr>\n",
       "    <tr>\n",
       "      <th>866</th>\n",
       "      <td>1223</td>\n",
       "      <td>13231</td>\n",
       "      <td>junior</td>\n",
       "      <td>950502 00:00:00</td>\n",
       "      <td>11013</td>\n",
       "      <td>13539</td>\n",
       "      <td>OWNER</td>\n",
       "      <td>13539</td>\n",
       "      <td>780907</td>\n",
       "      <td>63</td>\n",
       "      <td>...</td>\n",
       "      <td>92893.101562</td>\n",
       "      <td>None</td>\n",
       "      <td>None</td>\n",
       "      <td>NaN</td>\n",
       "      <td>7240</td>\n",
       "      <td>1993-09-06</td>\n",
       "      <td>274740</td>\n",
       "      <td>60</td>\n",
       "      <td>4579.0</td>\n",
       "      <td>A</td>\n",
       "    </tr>\n",
       "    <tr>\n",
       "      <th>867</th>\n",
       "      <td>1223</td>\n",
       "      <td>13231</td>\n",
       "      <td>junior</td>\n",
       "      <td>950502 00:00:00</td>\n",
       "      <td>11013</td>\n",
       "      <td>13539</td>\n",
       "      <td>OWNER</td>\n",
       "      <td>13539</td>\n",
       "      <td>780907</td>\n",
       "      <td>63</td>\n",
       "      <td>...</td>\n",
       "      <td>122893.101562</td>\n",
       "      <td>None</td>\n",
       "      <td>YZ</td>\n",
       "      <td>45816707.0</td>\n",
       "      <td>7240</td>\n",
       "      <td>1993-09-06</td>\n",
       "      <td>274740</td>\n",
       "      <td>60</td>\n",
       "      <td>4579.0</td>\n",
       "      <td>A</td>\n",
       "    </tr>\n",
       "  </tbody>\n",
       "</table>\n",
       "<p>868 rows × 50 columns</p>\n",
       "</div>"
      ],
      "text/plain": [
       "     card_id  disp_id     type           issued  account_id  \\\n",
       "0        159      946  classic  950501 00:00:00         790   \n",
       "1        159      946  classic  950501 00:00:00         790   \n",
       "2        159      946  classic  950501 00:00:00         790   \n",
       "3        159      946  classic  950501 00:00:00         790   \n",
       "4        159      946  classic  950501 00:00:00         790   \n",
       "..       ...      ...      ...              ...         ...   \n",
       "863     1223    13231   junior  950502 00:00:00       11013   \n",
       "864     1223    13231   junior  950502 00:00:00       11013   \n",
       "865     1223    13231   junior  950502 00:00:00       11013   \n",
       "866     1223    13231   junior  950502 00:00:00       11013   \n",
       "867     1223    13231   junior  950502 00:00:00       11013   \n",
       "\n",
       "     disposition_client_id disposition_type  client_id  birth_number  \\\n",
       "0                      946            OWNER        946        510806   \n",
       "1                      946            OWNER        946        510806   \n",
       "2                      946            OWNER        946        510806   \n",
       "3                      946            OWNER        946        510806   \n",
       "4                      946            OWNER        946        510806   \n",
       "..                     ...              ...        ...           ...   \n",
       "863                  13539            OWNER      13539        780907   \n",
       "864                  13539            OWNER      13539        780907   \n",
       "865                  13539            OWNER      13539        780907   \n",
       "866                  13539            OWNER      13539        780907   \n",
       "867                  13539            OWNER      13539        780907   \n",
       "\n",
       "     district_id  ...        balance k_symbol  bank     account  loan_id  \\\n",
       "0             54  ...     300.000000     None  None         NaN     5126   \n",
       "1             54  ...    9900.000000     None  None         NaN     5126   \n",
       "2             54  ...   42599.000000     None  None         NaN     5126   \n",
       "3             54  ...   42658.199219     UROK  None         NaN     5126   \n",
       "4             54  ...   48117.199219     None  None         NaN     5126   \n",
       "..           ...  ...            ...      ...   ...         ...      ...   \n",
       "863           63  ...   94294.000000     None    YZ  45816707.0     7240   \n",
       "864           63  ...   59294.000000     None  None         NaN     7240   \n",
       "865           63  ...   59527.101562     UROK  None         NaN     7240   \n",
       "866           63  ...   92893.101562     None  None         NaN     7240   \n",
       "867           63  ...  122893.101562     None    YZ  45816707.0     7240   \n",
       "\n",
       "      loan_date  loan_amount  duration  payments  status  \n",
       "0    1994-07-24       208128        48    4336.0       B  \n",
       "1    1994-07-24       208128        48    4336.0       B  \n",
       "2    1994-07-24       208128        48    4336.0       B  \n",
       "3    1994-07-24       208128        48    4336.0       B  \n",
       "4    1994-07-24       208128        48    4336.0       B  \n",
       "..          ...          ...       ...       ...     ...  \n",
       "863  1993-09-06       274740        60    4579.0       A  \n",
       "864  1993-09-06       274740        60    4579.0       A  \n",
       "865  1993-09-06       274740        60    4579.0       A  \n",
       "866  1993-09-06       274740        60    4579.0       A  \n",
       "867  1993-09-06       274740        60    4579.0       A  \n",
       "\n",
       "[868 rows x 50 columns]"
      ]
     },
     "metadata": {},
     "output_type": "display_data"
    }
   ],
   "source": [
    "df = pd.read_sql(sql, conn)\n",
    "display(df)"
   ]
  },
  {
   "cell_type": "code",
   "execution_count": 12,
   "id": "26ba14d7",
   "metadata": {},
   "outputs": [
    {
     "data": {
      "text/plain": [
       "(868, 50)"
      ]
     },
     "metadata": {},
     "output_type": "display_data"
    }
   ],
   "source": [
    "display (df.shape)"
   ]
  },
  {
   "cell_type": "code",
   "execution_count": 13,
   "id": "334bed5e",
   "metadata": {},
   "outputs": [
    {
     "data": {
      "text/plain": [
       "Index(['card_id', 'disp_id', 'type', 'issued', 'account_id',\n",
       "       'disposition_client_id', 'disposition_type', 'client_id',\n",
       "       'birth_number', 'district_id', 'A1', 'A2', 'A3', 'A4', 'A5', 'A6', 'A7',\n",
       "       'A8', 'A9', 'A10', 'A11', 'A12', 'A13', 'A14', 'A15', 'A16', 'order_id',\n",
       "       'bank_to', 'account_to', 'amount', 'k_symbol', 'account_date',\n",
       "       'account_district_id', 'frequency', 'trans_id', 'account_id', 'date',\n",
       "       'type', 'operation', 'amount', 'balance', 'k_symbol', 'bank', 'account',\n",
       "       'loan_id', 'loan_date', 'loan_amount', 'duration', 'payments',\n",
       "       'status'],\n",
       "      dtype='object')"
      ]
     },
     "execution_count": 13,
     "metadata": {},
     "output_type": "execute_result"
    }
   ],
   "source": [
    "df.columns"
   ]
  },
  {
   "cell_type": "code",
   "execution_count": 14,
   "id": "5d40b109",
   "metadata": {},
   "outputs": [
    {
     "name": "stdout",
     "output_type": "stream",
     "text": [
      "card_id                    0\n",
      "disp_id                    0\n",
      "type                       0\n",
      "issued                     0\n",
      "account_id                 0\n",
      "disposition_client_id      0\n",
      "disposition_type           0\n",
      "client_id                  0\n",
      "birth_number               0\n",
      "district_id                0\n",
      "A1                         0\n",
      "A2                         0\n",
      "A3                         0\n",
      "A4                         0\n",
      "A5                         0\n",
      "A6                         0\n",
      "A7                         0\n",
      "A8                         0\n",
      "A9                         0\n",
      "A10                        0\n",
      "A11                        0\n",
      "A12                        0\n",
      "A13                        0\n",
      "A14                        0\n",
      "A15                        0\n",
      "A16                        0\n",
      "order_id                   0\n",
      "bank_to                    0\n",
      "account_to                 0\n",
      "amount                     0\n",
      "k_symbol                   0\n",
      "account_date               0\n",
      "account_district_id        0\n",
      "frequency                  0\n",
      "trans_id                   0\n",
      "account_id                 0\n",
      "date                       0\n",
      "type                       0\n",
      "operation                157\n",
      "amount                     0\n",
      "balance                    0\n",
      "k_symbol                 602\n",
      "bank                     714\n",
      "account                  663\n",
      "loan_id                    0\n",
      "loan_date                  0\n",
      "loan_amount                0\n",
      "duration                   0\n",
      "payments                   0\n",
      "status                     0\n",
      "dtype: int64\n"
     ]
    }
   ],
   "source": [
    "print (df.isnull().sum())"
   ]
  },
  {
   "cell_type": "code",
   "execution_count": 15,
   "id": "6425d108",
   "metadata": {},
   "outputs": [
    {
     "data": {
      "text/plain": [
       "array(['B', 'A', 'D', 'C'], dtype=object)"
      ]
     },
     "metadata": {},
     "output_type": "display_data"
    }
   ],
   "source": [
    "display (df.status.unique())"
   ]
  },
  {
   "cell_type": "code",
   "execution_count": 16,
   "id": "1dcb807c",
   "metadata": {},
   "outputs": [
    {
     "data": {
      "text/plain": [
       "A    648\n",
       "B    168\n",
       "C     51\n",
       "D      1\n",
       "Name: status, dtype: int64"
      ]
     },
     "metadata": {},
     "output_type": "display_data"
    }
   ],
   "source": [
    "display(df.status.value_counts())"
   ]
  },
  {
   "cell_type": "code",
   "execution_count": 17,
   "id": "32145334",
   "metadata": {},
   "outputs": [
    {
     "data": {
      "text/plain": [
       "0      1\n",
       "1      1\n",
       "2      1\n",
       "3      1\n",
       "4      1\n",
       "      ..\n",
       "863    0\n",
       "864    0\n",
       "865    0\n",
       "866    0\n",
       "867    0\n",
       "Name: status, Length: 868, dtype: int64"
      ]
     },
     "metadata": {},
     "output_type": "display_data"
    }
   ],
   "source": [
    "df.status = pd.DataFrame(df.status.map({'A':0, 'B':1, 'C':2, 'D':3}), columns=['status'])\n",
    "display(df.status)"
   ]
  },
  {
   "cell_type": "code",
   "execution_count": 18,
   "id": "16bd51f4",
   "metadata": {},
   "outputs": [
    {
     "data": {
      "text/plain": [
       "0    648\n",
       "1    168\n",
       "2     51\n",
       "3      1\n",
       "Name: status, dtype: int64"
      ]
     },
     "metadata": {},
     "output_type": "display_data"
    }
   ],
   "source": [
    "display (df.status.value_counts())"
   ]
  },
  {
   "cell_type": "code",
   "execution_count": 19,
   "id": "f36aa633",
   "metadata": {},
   "outputs": [
    {
     "data": {
      "text/plain": [
       "array([[2.08128e+05, 4.80000e+01, 4.33600e+03],\n",
       "       [2.08128e+05, 4.80000e+01, 4.33600e+03],\n",
       "       [2.08128e+05, 4.80000e+01, 4.33600e+03],\n",
       "       ...,\n",
       "       [2.74740e+05, 6.00000e+01, 4.57900e+03],\n",
       "       [2.74740e+05, 6.00000e+01, 4.57900e+03],\n",
       "       [2.74740e+05, 6.00000e+01, 4.57900e+03]])"
      ]
     },
     "metadata": {},
     "output_type": "display_data"
    }
   ],
   "source": [
    "x = df[['loan_amount', 'duration', 'payments']].values\n",
    "display(x)"
   ]
  },
  {
   "cell_type": "code",
   "execution_count": 21,
   "id": "d26fdf80",
   "metadata": {},
   "outputs": [
    {
     "data": {
      "text/plain": [
       "array([1, 1, 1, 1, 1, 1, 1, 1, 0, 0, 0, 0, 0, 0, 0, 0, 0, 0, 0, 0, 0, 0,\n",
       "       0, 0, 0, 0, 0, 0, 0, 0, 0, 0, 0, 0, 0, 0, 0, 0, 0, 0, 0, 0, 0, 0,\n",
       "       0, 0, 0, 0, 0, 0, 0, 0, 0, 0, 0, 0, 0, 0, 0, 0, 0, 0, 0, 0, 0, 0,\n",
       "       0, 0, 0, 0, 0, 0, 0, 0, 0, 0, 0, 0, 0, 0, 0, 0, 0, 0, 0, 0, 0, 0,\n",
       "       0, 0, 0, 0, 0, 0, 0, 0, 0, 0, 0, 0, 0, 0, 0, 0, 0, 0, 0, 0, 0, 0,\n",
       "       3, 0, 0, 0, 0, 0, 0, 0, 0, 0, 0, 0, 0, 0, 0, 0, 0, 0, 0, 0, 0, 0,\n",
       "       0, 0, 0, 0, 0, 0, 0, 0, 0, 0, 0, 0, 0, 0, 0, 0, 0, 0, 0, 0, 0, 0,\n",
       "       0, 0, 0, 1, 1, 1, 1, 1, 1, 1, 1, 1, 1, 1, 1, 1, 1, 1, 1, 1, 1, 1,\n",
       "       1, 1, 1, 1, 1, 1, 1, 1, 1, 1, 1, 1, 1, 1, 1, 1, 1, 1, 1, 1, 1, 1,\n",
       "       1, 1, 1, 1, 1, 1, 1, 1, 1, 1, 1, 1, 1, 1, 1, 1, 1, 1, 1, 1, 1, 1,\n",
       "       1, 1, 1, 1, 1, 1, 1, 1, 1, 1, 1, 1, 1, 1, 1, 1, 1, 1, 1, 1, 1, 1,\n",
       "       1, 1, 1, 1, 1, 1, 1, 1, 1, 1, 1, 1, 1, 1, 1, 1, 1, 1, 1, 1, 1, 1,\n",
       "       1, 1, 1, 1, 1, 1, 1, 1, 1, 1, 1, 1, 1, 1, 1, 1, 1, 1, 1, 1, 1, 1,\n",
       "       1, 1, 1, 1, 1, 1, 1, 1, 1, 1, 1, 1, 1, 1, 1, 1, 1, 1, 1, 1, 1, 1,\n",
       "       1, 1, 1, 1, 1, 1, 1, 1, 1, 0, 0, 0, 0, 0, 0, 0, 0, 0, 0, 0, 0, 0,\n",
       "       0, 0, 0, 0, 0, 0, 0, 0, 0, 0, 0, 0, 0, 0, 0, 0, 0, 0, 0, 0, 0, 0,\n",
       "       0, 0, 0, 0, 0, 0, 0, 0, 0, 0, 0, 0, 0, 0, 0, 0, 0, 0, 0, 0, 0, 0,\n",
       "       0, 0, 0, 0, 0, 0, 0, 0, 0, 0, 0, 0, 0, 0, 0, 0, 0, 0, 0, 0, 0, 0,\n",
       "       0, 0, 0, 0, 0, 0, 0, 0, 0, 0, 0, 0, 0, 0, 0, 0, 0, 0, 0, 0, 0, 0,\n",
       "       0, 0, 0, 0, 0, 0, 0, 0, 0, 0, 0, 0, 0, 0, 0, 0, 0, 0, 0, 0, 0, 0,\n",
       "       0, 0, 0, 0, 0, 0, 0, 0, 0, 0, 0, 0, 0, 0, 0, 0, 0, 0, 0, 0, 0, 0,\n",
       "       0, 0, 0, 0, 0, 0, 0, 0, 0, 0, 0, 0, 0, 0, 0, 0, 0, 0, 0, 0, 0, 0,\n",
       "       0, 0, 0, 0, 0, 0, 0, 0, 0, 0, 0, 0, 0, 0, 0, 0, 0, 0, 0, 0, 0, 0,\n",
       "       0, 0, 0, 0, 0, 0, 0, 0, 0, 0, 0, 0, 0, 0, 0, 0, 0, 0, 0, 0, 0, 0,\n",
       "       0, 0, 0, 0, 0, 0, 0, 0, 0, 0, 0, 0, 0, 0, 0, 0, 0, 0, 0, 0, 0, 0,\n",
       "       0, 0, 0, 0, 0, 0, 0, 0, 0, 0, 0, 0, 0, 0, 0, 0, 0, 0, 0, 0, 0, 0,\n",
       "       0, 0, 0, 0, 0, 0, 0, 0, 0, 0, 0, 0, 0, 0, 0, 0, 0, 0, 0, 0, 0, 0,\n",
       "       0, 0, 0, 0, 2, 2, 2, 2, 2, 2, 2, 2, 2, 2, 2, 2, 2, 2, 2, 2, 2, 2,\n",
       "       2, 2, 2, 0, 0, 0, 0, 0, 0, 0, 0, 0, 0, 0, 0, 0, 0, 0, 0, 0, 0, 0,\n",
       "       0, 0, 0, 0, 0, 0, 0, 0, 0, 0, 0, 0, 0, 0, 0, 0, 0, 0, 0, 0, 0, 0,\n",
       "       0, 0, 0, 0, 0, 0, 0, 0, 0, 0, 0, 0, 0, 0, 0, 0, 0, 0, 0, 0, 0, 0,\n",
       "       0, 0, 0, 0, 0, 0, 0, 0, 0, 0, 0, 0, 0, 0, 0, 0, 0, 0, 0, 0, 0, 0,\n",
       "       0, 0, 2, 2, 2, 2, 2, 2, 2, 2, 2, 2, 2, 2, 2, 2, 2, 2, 2, 2, 2, 2,\n",
       "       2, 2, 2, 2, 2, 2, 2, 2, 2, 2, 0, 0, 0, 0, 0, 0, 0, 0, 0, 0, 0, 0,\n",
       "       0, 0, 0, 0, 0, 0, 0, 0, 0, 0, 0, 0, 0, 0, 0, 0, 0, 0, 0, 0, 0, 0,\n",
       "       0, 0, 0, 0, 0, 0, 0, 0, 0, 0, 0, 0, 0, 0, 0, 0, 0, 0, 0, 0, 0, 0,\n",
       "       0, 0, 0, 0, 0, 0, 0, 0, 0, 0, 0, 0, 0, 0, 0, 0, 0, 0, 0, 0, 0, 0,\n",
       "       0, 0, 0, 0, 0, 0, 0, 0, 0, 0, 0, 0, 0, 0, 0, 0, 0, 0, 0, 0, 0, 0,\n",
       "       0, 0, 0, 0, 0, 0, 0, 0, 0, 0, 0, 0, 0, 0, 0, 0, 0, 0, 0, 0, 0, 0,\n",
       "       0, 0, 0, 0, 0, 0, 0, 0, 0, 0], dtype=int64)"
      ]
     },
     "metadata": {},
     "output_type": "display_data"
    }
   ],
   "source": [
    "y = df['status'].values\n",
    "display(y)"
   ]
  },
  {
   "cell_type": "code",
   "execution_count": 22,
   "id": "1045099d",
   "metadata": {},
   "outputs": [
    {
     "name": "stdout",
     "output_type": "stream",
     "text": [
      "[[0.61054106 0.75       0.51752949]\n",
      " [0.61054106 0.75       0.51752949]\n",
      " [0.61054106 0.75       0.51752949]\n",
      " ...\n",
      " [0.82071864 1.         0.55733945]\n",
      " [0.82071864 1.         0.55733945]\n",
      " [0.82071864 1.         0.55733945]]\n"
     ]
    }
   ],
   "source": [
    "from sklearn.preprocessing import MinMaxScaler\n",
    "sc_x = MinMaxScaler()\n",
    "x = sc_x.fit_transform(x)\n",
    "print (x)"
   ]
  },
  {
   "cell_type": "code",
   "execution_count": 24,
   "id": "6cb795d3",
   "metadata": {},
   "outputs": [
    {
     "name": "stdout",
     "output_type": "stream",
     "text": [
      "(261, 3)\n",
      "(607, 3)\n",
      "(261,)\n",
      "(607,)\n"
     ]
    }
   ],
   "source": [
    "from sklearn.model_selection import train_test_split\n",
    "x_train, x_test, y_train, y_test = train_test_split(x,y, test_size=0.3, random_state=143)\n",
    "print (x_test.shape)\n",
    "print (x_train.shape)\n",
    "print (y_test.shape)\n",
    "print (y_train.shape)"
   ]
  },
  {
   "cell_type": "code",
   "execution_count": 28,
   "id": "cb2a21f8",
   "metadata": {},
   "outputs": [
    {
     "name": "stderr",
     "output_type": "stream",
     "text": [
      "C:\\Users\\akshay\\anaconda3\\lib\\site-packages\\sklearn\\neighbors\\_classification.py:228: FutureWarning: Unlike other reduction functions (e.g. `skew`, `kurtosis`), the default behavior of `mode` typically preserves the axis it acts along. In SciPy 1.11.0, this behavior will change: the default value of `keepdims` will become False, the `axis` over which the statistic is taken will be eliminated, and the value None will no longer be accepted. Set `keepdims` to True or False to avoid this warning.\n",
      "  mode, _ = stats.mode(_y[neigh_ind, k], axis=1)\n",
      "C:\\Users\\akshay\\anaconda3\\lib\\site-packages\\sklearn\\neighbors\\_classification.py:228: FutureWarning: Unlike other reduction functions (e.g. `skew`, `kurtosis`), the default behavior of `mode` typically preserves the axis it acts along. In SciPy 1.11.0, this behavior will change: the default value of `keepdims` will become False, the `axis` over which the statistic is taken will be eliminated, and the value None will no longer be accepted. Set `keepdims` to True or False to avoid this warning.\n",
      "  mode, _ = stats.mode(_y[neigh_ind, k], axis=1)\n",
      "C:\\Users\\akshay\\anaconda3\\lib\\site-packages\\sklearn\\neighbors\\_classification.py:228: FutureWarning: Unlike other reduction functions (e.g. `skew`, `kurtosis`), the default behavior of `mode` typically preserves the axis it acts along. In SciPy 1.11.0, this behavior will change: the default value of `keepdims` will become False, the `axis` over which the statistic is taken will be eliminated, and the value None will no longer be accepted. Set `keepdims` to True or False to avoid this warning.\n",
      "  mode, _ = stats.mode(_y[neigh_ind, k], axis=1)\n",
      "C:\\Users\\akshay\\anaconda3\\lib\\site-packages\\sklearn\\neighbors\\_classification.py:228: FutureWarning: Unlike other reduction functions (e.g. `skew`, `kurtosis`), the default behavior of `mode` typically preserves the axis it acts along. In SciPy 1.11.0, this behavior will change: the default value of `keepdims` will become False, the `axis` over which the statistic is taken will be eliminated, and the value None will no longer be accepted. Set `keepdims` to True or False to avoid this warning.\n",
      "  mode, _ = stats.mode(_y[neigh_ind, k], axis=1)\n",
      "C:\\Users\\akshay\\anaconda3\\lib\\site-packages\\sklearn\\neighbors\\_classification.py:228: FutureWarning: Unlike other reduction functions (e.g. `skew`, `kurtosis`), the default behavior of `mode` typically preserves the axis it acts along. In SciPy 1.11.0, this behavior will change: the default value of `keepdims` will become False, the `axis` over which the statistic is taken will be eliminated, and the value None will no longer be accepted. Set `keepdims` to True or False to avoid this warning.\n",
      "  mode, _ = stats.mode(_y[neigh_ind, k], axis=1)\n",
      "C:\\Users\\akshay\\anaconda3\\lib\\site-packages\\sklearn\\neighbors\\_classification.py:228: FutureWarning: Unlike other reduction functions (e.g. `skew`, `kurtosis`), the default behavior of `mode` typically preserves the axis it acts along. In SciPy 1.11.0, this behavior will change: the default value of `keepdims` will become False, the `axis` over which the statistic is taken will be eliminated, and the value None will no longer be accepted. Set `keepdims` to True or False to avoid this warning.\n",
      "  mode, _ = stats.mode(_y[neigh_ind, k], axis=1)\n",
      "C:\\Users\\akshay\\anaconda3\\lib\\site-packages\\sklearn\\neighbors\\_classification.py:228: FutureWarning: Unlike other reduction functions (e.g. `skew`, `kurtosis`), the default behavior of `mode` typically preserves the axis it acts along. In SciPy 1.11.0, this behavior will change: the default value of `keepdims` will become False, the `axis` over which the statistic is taken will be eliminated, and the value None will no longer be accepted. Set `keepdims` to True or False to avoid this warning.\n",
      "  mode, _ = stats.mode(_y[neigh_ind, k], axis=1)\n",
      "C:\\Users\\akshay\\anaconda3\\lib\\site-packages\\sklearn\\neighbors\\_classification.py:228: FutureWarning: Unlike other reduction functions (e.g. `skew`, `kurtosis`), the default behavior of `mode` typically preserves the axis it acts along. In SciPy 1.11.0, this behavior will change: the default value of `keepdims` will become False, the `axis` over which the statistic is taken will be eliminated, and the value None will no longer be accepted. Set `keepdims` to True or False to avoid this warning.\n",
      "  mode, _ = stats.mode(_y[neigh_ind, k], axis=1)\n",
      "C:\\Users\\akshay\\anaconda3\\lib\\site-packages\\sklearn\\neighbors\\_classification.py:228: FutureWarning: Unlike other reduction functions (e.g. `skew`, `kurtosis`), the default behavior of `mode` typically preserves the axis it acts along. In SciPy 1.11.0, this behavior will change: the default value of `keepdims` will become False, the `axis` over which the statistic is taken will be eliminated, and the value None will no longer be accepted. Set `keepdims` to True or False to avoid this warning.\n",
      "  mode, _ = stats.mode(_y[neigh_ind, k], axis=1)\n",
      "C:\\Users\\akshay\\anaconda3\\lib\\site-packages\\sklearn\\neighbors\\_classification.py:228: FutureWarning: Unlike other reduction functions (e.g. `skew`, `kurtosis`), the default behavior of `mode` typically preserves the axis it acts along. In SciPy 1.11.0, this behavior will change: the default value of `keepdims` will become False, the `axis` over which the statistic is taken will be eliminated, and the value None will no longer be accepted. Set `keepdims` to True or False to avoid this warning.\n",
      "  mode, _ = stats.mode(_y[neigh_ind, k], axis=1)\n",
      "C:\\Users\\akshay\\anaconda3\\lib\\site-packages\\sklearn\\neighbors\\_classification.py:228: FutureWarning: Unlike other reduction functions (e.g. `skew`, `kurtosis`), the default behavior of `mode` typically preserves the axis it acts along. In SciPy 1.11.0, this behavior will change: the default value of `keepdims` will become False, the `axis` over which the statistic is taken will be eliminated, and the value None will no longer be accepted. Set `keepdims` to True or False to avoid this warning.\n",
      "  mode, _ = stats.mode(_y[neigh_ind, k], axis=1)\n",
      "C:\\Users\\akshay\\anaconda3\\lib\\site-packages\\sklearn\\neighbors\\_classification.py:228: FutureWarning: Unlike other reduction functions (e.g. `skew`, `kurtosis`), the default behavior of `mode` typically preserves the axis it acts along. In SciPy 1.11.0, this behavior will change: the default value of `keepdims` will become False, the `axis` over which the statistic is taken will be eliminated, and the value None will no longer be accepted. Set `keepdims` to True or False to avoid this warning.\n",
      "  mode, _ = stats.mode(_y[neigh_ind, k], axis=1)\n",
      "C:\\Users\\akshay\\anaconda3\\lib\\site-packages\\sklearn\\neighbors\\_classification.py:228: FutureWarning: Unlike other reduction functions (e.g. `skew`, `kurtosis`), the default behavior of `mode` typically preserves the axis it acts along. In SciPy 1.11.0, this behavior will change: the default value of `keepdims` will become False, the `axis` over which the statistic is taken will be eliminated, and the value None will no longer be accepted. Set `keepdims` to True or False to avoid this warning.\n",
      "  mode, _ = stats.mode(_y[neigh_ind, k], axis=1)\n",
      "C:\\Users\\akshay\\anaconda3\\lib\\site-packages\\sklearn\\neighbors\\_classification.py:228: FutureWarning: Unlike other reduction functions (e.g. `skew`, `kurtosis`), the default behavior of `mode` typically preserves the axis it acts along. In SciPy 1.11.0, this behavior will change: the default value of `keepdims` will become False, the `axis` over which the statistic is taken will be eliminated, and the value None will no longer be accepted. Set `keepdims` to True or False to avoid this warning.\n",
      "  mode, _ = stats.mode(_y[neigh_ind, k], axis=1)\n"
     ]
    }
   ],
   "source": [
    "accuracy=[]\n",
    "for i in range(1,15):\n",
    "    knn=KNeighborsClassifier(n_neighbors=i)\n",
    "    knn=knn.fit(x_train,y_train)\n",
    "    y_pred =knn.predict(x_train)\n",
    "    acc= accuracy_score (y_train,y_pred)\n",
    "    accuracy.append (acc)"
   ]
  },
  {
   "cell_type": "code",
   "execution_count": 29,
   "id": "c49a6f21",
   "metadata": {},
   "outputs": [
    {
     "data": {
      "text/plain": [
       "[1.0,\n",
       " 1.0,\n",
       " 1.0,\n",
       " 1.0,\n",
       " 0.9967051070840197,\n",
       " 0.9917627677100495,\n",
       " 0.9917627677100495,\n",
       " 0.9917627677100495,\n",
       " 0.9917627677100495,\n",
       " 0.9917627677100495,\n",
       " 0.9917627677100495,\n",
       " 0.9917627677100495,\n",
       " 0.9917627677100495,\n",
       " 0.9917627677100495]"
      ]
     },
     "metadata": {},
     "output_type": "display_data"
    }
   ],
   "source": [
    "display (accuracy)"
   ]
  },
  {
   "cell_type": "code",
   "execution_count": 30,
   "id": "e7b2845a",
   "metadata": {},
   "outputs": [
    {
     "data": {
      "image/png": "[encoded data removed]",
      "text/plain": [
       "<Figure size 2000x1000 with 1 Axes>"
      ]
     },
     "metadata": {},
     "output_type": "display_data"
    }
   ],
   "source": [
    "plt.plot(range(1,15),accuracy)\n",
    "plt.show()"
   ]
  },
  {
   "cell_type": "code",
   "execution_count": 31,
   "id": "8d04ef6e",
   "metadata": {},
   "outputs": [],
   "source": [
    "knn = KNeighborsClassifier(n_neighbors=3)\n",
    "knn = knn.fit(x_train, y_train)"
   ]
  },
  {
   "cell_type": "code",
   "execution_count": 32,
   "id": "d80fa169",
   "metadata": {},
   "outputs": [
    {
     "name": "stderr",
     "output_type": "stream",
     "text": [
      "C:\\Users\\akshay\\anaconda3\\lib\\site-packages\\sklearn\\neighbors\\_classification.py:228: FutureWarning: Unlike other reduction functions (e.g. `skew`, `kurtosis`), the default behavior of `mode` typically preserves the axis it acts along. In SciPy 1.11.0, this behavior will change: the default value of `keepdims` will become False, the `axis` over which the statistic is taken will be eliminated, and the value None will no longer be accepted. Set `keepdims` to True or False to avoid this warning.\n",
      "  mode, _ = stats.mode(_y[neigh_ind, k], axis=1)\n"
     ]
    },
    {
     "data": {
      "text/plain": [
       "0.9961685823754789"
      ]
     },
     "metadata": {},
     "output_type": "display_data"
    }
   ],
   "source": [
    "y_pred = knn.predict(x_test)\n",
    "display (accuracy_score(y_pred, y_test))"
   ]
  },
  {
   "cell_type": "code",
   "execution_count": 33,
   "id": "599b47e8",
   "metadata": {},
   "outputs": [
    {
     "name": "stderr",
     "output_type": "stream",
     "text": [
      "C:\\Users\\akshay\\anaconda3\\lib\\site-packages\\sklearn\\neighbors\\_classification.py:228: FutureWarning: Unlike other reduction functions (e.g. `skew`, `kurtosis`), the default behavior of `mode` typically preserves the axis it acts along. In SciPy 1.11.0, this behavior will change: the default value of `keepdims` will become False, the `axis` over which the statistic is taken will be eliminated, and the value None will no longer be accepted. Set `keepdims` to True or False to avoid this warning.\n",
      "  mode, _ = stats.mode(_y[neigh_ind, k], axis=1)\n"
     ]
    },
    {
     "data": {
      "text/plain": [
       "0.9961685823754789"
      ]
     },
     "metadata": {},
     "output_type": "display_data"
    }
   ],
   "source": [
    "knn = KNeighborsClassifier (n_neighbors=10)\n",
    "knn = knn.fit(x_train, y_train)\n",
    "y_pred =  knn.predict (x_test)\n",
    "display (accuracy_score(y_pred, y_test))"
   ]
  },
  {
   "cell_type": "code",
   "execution_count": 34,
   "id": "0fbbe679",
   "metadata": {},
   "outputs": [
    {
     "name": "stdout",
     "output_type": "stream",
     "text": [
      "              precision    recall  f1-score   support\n",
      "\n",
      "           0       1.00      1.00      1.00       198\n",
      "           1       0.98      1.00      0.99        48\n",
      "           2       1.00      1.00      1.00        14\n",
      "           3       0.00      0.00      0.00         1\n",
      "\n",
      "    accuracy                           1.00       261\n",
      "   macro avg       0.74      0.75      0.75       261\n",
      "weighted avg       0.99      1.00      0.99       261\n",
      "\n"
     ]
    },
    {
     "name": "stderr",
     "output_type": "stream",
     "text": [
      "C:\\Users\\akshay\\anaconda3\\lib\\site-packages\\sklearn\\metrics\\_classification.py:1318: UndefinedMetricWarning: Precision and F-score are ill-defined and being set to 0.0 in labels with no predicted samples. Use `zero_division` parameter to control this behavior.\n",
      "  _warn_prf(average, modifier, msg_start, len(result))\n",
      "C:\\Users\\akshay\\anaconda3\\lib\\site-packages\\sklearn\\metrics\\_classification.py:1318: UndefinedMetricWarning: Precision and F-score are ill-defined and being set to 0.0 in labels with no predicted samples. Use `zero_division` parameter to control this behavior.\n",
      "  _warn_prf(average, modifier, msg_start, len(result))\n",
      "C:\\Users\\akshay\\anaconda3\\lib\\site-packages\\sklearn\\metrics\\_classification.py:1318: UndefinedMetricWarning: Precision and F-score are ill-defined and being set to 0.0 in labels with no predicted samples. Use `zero_division` parameter to control this behavior.\n",
      "  _warn_prf(average, modifier, msg_start, len(result))\n"
     ]
    }
   ],
   "source": [
    "from sklearn.metrics import classification_report\n",
    "print (classification_report(y_test, y_pred))"
   ]
  },
  {
   "cell_type": "code",
   "execution_count": 35,
   "id": "62d8666f",
   "metadata": {},
   "outputs": [
    {
     "name": "stdout",
     "output_type": "stream",
     "text": [
      "[[198   0   0   0]\n",
      " [  0  48   0   0]\n",
      " [  0   0  14   0]\n",
      " [  0   1   0   0]]\n"
     ]
    }
   ],
   "source": [
    "from sklearn.metrics import confusion_matrix\n",
    "cm = confusion_matrix (y_test, y_pred)\n",
    "print (cm)"
   ]
  },
  {
   "cell_type": "code",
   "execution_count": 37,
   "id": "5d722646",
   "metadata": {},
   "outputs": [
    {
     "name": "stdout",
     "output_type": "stream",
     "text": [
      "[0 0 0 2 0 0 0 0 0 0 0 0 0 0 0 2 0 0 0 0 1 0 0 0 0 0 0 0 0 0 0 0 2 0 0 0 0\n",
      " 0 1 0 0 0 1 0 0 0 1 0 2 1 2 0 0 0 0 0 0 1 0 0 1 0 0 1 0 0 1 0 0 0 0 0 1 0\n",
      " 0 0 2 0 0 0 1 0 0 0 1 1 1 0 0 2 0 2 2 0 1 0 0 1 0 0 0 0 1 0 0 1 0 1 0 1 1\n",
      " 0 0 0 0 0 1 0 0 0 1 0 0 1 0 0 0 0 1 0 1 1 0 0 1 0 0 0 0 0 0 0 1 1 0 0 0 0\n",
      " 1 2 0 0 0 0 0 1 0 1 0 0 0 1 1 0 1 0 0 1 0 2 0 0 0 0 0 0 0 0 0 0 0 0 0 0 0\n",
      " 0 0 0 1 2 0 0 0 0 1 0 1 0 0 0 0 0 2 0 0 0 0 0 0 0 0 0 0 0 1 1 0 0 0 0 1 0\n",
      " 0 0 0 0 0 0 0 0 0 0 0 1 0 0 0 0 0 0 0 0 0 2 0 0 0 1 1 0 0 0 0 0 1 0 0 0 1\n",
      " 2 0]\n",
      "     0\n",
      "0     \n",
      "0  198\n",
      "1   48\n",
      "2   15\n",
      "\n",
      " Accuracy Score\n",
      "0.9961685823754789\n",
      "\n",
      "Classification Report\n",
      "              precision    recall  f1-score   support\n",
      "\n",
      "           0       1.00      1.00      1.00       198\n",
      "           1       1.00      1.00      1.00        48\n",
      "           2       0.93      1.00      0.97        14\n",
      "           3       0.00      0.00      0.00         1\n",
      "\n",
      "    accuracy                           1.00       261\n",
      "   macro avg       0.73      0.75      0.74       261\n",
      "weighted avg       0.99      1.00      0.99       261\n",
      "\n",
      "Confusion Matrix\n",
      "[[198   0   0   0]\n",
      " [  0  48   0   0]\n",
      " [  0   0  14   0]\n",
      " [  0   0   1   0]]\n"
     ]
    },
    {
     "name": "stderr",
     "output_type": "stream",
     "text": [
      "C:\\Users\\akshay\\anaconda3\\lib\\site-packages\\sklearn\\metrics\\_classification.py:1318: UndefinedMetricWarning: Precision and F-score are ill-defined and being set to 0.0 in labels with no predicted samples. Use `zero_division` parameter to control this behavior.\n",
      "  _warn_prf(average, modifier, msg_start, len(result))\n",
      "C:\\Users\\akshay\\anaconda3\\lib\\site-packages\\sklearn\\metrics\\_classification.py:1318: UndefinedMetricWarning: Precision and F-score are ill-defined and being set to 0.0 in labels with no predicted samples. Use `zero_division` parameter to control this behavior.\n",
      "  _warn_prf(average, modifier, msg_start, len(result))\n",
      "C:\\Users\\akshay\\anaconda3\\lib\\site-packages\\sklearn\\metrics\\_classification.py:1318: UndefinedMetricWarning: Precision and F-score are ill-defined and being set to 0.0 in labels with no predicted samples. Use `zero_division` parameter to control this behavior.\n",
      "  _warn_prf(average, modifier, msg_start, len(result))\n"
     ]
    }
   ],
   "source": [
    "from sklearn.tree import DecisionTreeClassifier\n",
    "TREE = DecisionTreeClassifier (criterion = 'entropy')\n",
    "TREE.fit(x_train,y_train)\n",
    "TREE_pred = TREE.predict(x_test)\n",
    "print (TREE_pred)\n",
    "print (pd.DataFrame(TREE_pred).groupby(0).agg({0:np.size}))\n",
    "print('\\n Accuracy Score')\n",
    "print (accuracy_score (y_test,TREE_pred))\n",
    "print('\\nClassification Report')\n",
    "print(classification_report (y_test,TREE_pred))\n",
    "print('Confusion Matrix')\n",
    "print (confusion_matrix (y_test,TREE_pred))"
   ]
  },
  {
   "cell_type": "code",
   "execution_count": 39,
   "id": "c7f4cccc",
   "metadata": {},
   "outputs": [
    {
     "name": "stdout",
     "output_type": "stream",
     "text": [
      "[0 0 0 2 0 0 0 0 0 0 0 0 0 0 0 2 0 0 0 0 1 0 0 0 0 0 0 0 0 0 0 0 2 0 0 0 0\n",
      " 0 1 0 0 0 1 0 0 0 1 0 2 1 2 0 0 0 0 0 0 1 0 0 1 0 0 1 0 0 1 0 0 0 0 0 1 0\n",
      " 0 0 2 0 0 0 1 0 0 0 1 1 1 0 0 2 0 2 2 0 1 0 0 1 0 0 0 0 1 0 0 1 0 1 0 1 1\n",
      " 0 0 0 0 0 1 0 0 0 1 0 0 1 0 0 0 0 1 0 1 1 0 0 1 0 0 0 0 0 0 0 1 1 0 0 0 0\n",
      " 1 2 0 0 0 0 0 1 0 1 0 0 0 1 1 0 1 0 0 1 0 2 0 0 0 0 0 0 0 0 0 0 0 0 0 0 0\n",
      " 0 0 0 1 2 0 0 0 0 1 0 1 0 0 0 0 0 2 0 0 0 0 0 0 0 0 0 0 0 1 1 0 0 0 0 1 0\n",
      " 0 0 0 0 0 0 0 0 0 0 0 1 0 0 0 0 0 0 0 0 0 2 0 0 0 1 1 0 0 0 0 0 1 0 0 0 1\n",
      " 2 0]\n",
      "     0\n",
      "0     \n",
      "0  198\n",
      "1   48\n",
      "2   15\n",
      "\n",
      " Accuracy score\n",
      "0.9961685823754789\n",
      "\n",
      " classification report\n",
      "              precision    recall  f1-score   support\n",
      "\n",
      "           0       1.00      1.00      1.00       198\n",
      "           1       1.00      1.00      1.00        48\n",
      "           2       0.93      1.00      0.97        14\n",
      "           3       0.00      0.00      0.00         1\n",
      "\n",
      "    accuracy                           1.00       261\n",
      "   macro avg       0.73      0.75      0.74       261\n",
      "weighted avg       0.99      1.00      0.99       261\n",
      "\n",
      "\n",
      " classification report\n",
      "              precision    recall  f1-score   support\n",
      "\n",
      "           0       1.00      1.00      1.00       198\n",
      "           1       1.00      1.00      1.00        48\n",
      "           2       0.93      1.00      0.97        14\n",
      "           3       0.00      0.00      0.00         1\n",
      "\n",
      "    accuracy                           1.00       261\n",
      "   macro avg       0.73      0.75      0.74       261\n",
      "weighted avg       0.99      1.00      0.99       261\n",
      "\n",
      "\n",
      " confussion matrix\n",
      "[[198   0   0   0]\n",
      " [  0  48   0   0]\n",
      " [  0   0  14   0]\n",
      " [  0   0   1   0]]\n"
     ]
    },
    {
     "name": "stderr",
     "output_type": "stream",
     "text": [
      "C:\\Users\\akshay\\anaconda3\\lib\\site-packages\\sklearn\\metrics\\_classification.py:1318: UndefinedMetricWarning: Precision and F-score are ill-defined and being set to 0.0 in labels with no predicted samples. Use `zero_division` parameter to control this behavior.\n",
      "  _warn_prf(average, modifier, msg_start, len(result))\n",
      "C:\\Users\\akshay\\anaconda3\\lib\\site-packages\\sklearn\\metrics\\_classification.py:1318: UndefinedMetricWarning: Precision and F-score are ill-defined and being set to 0.0 in labels with no predicted samples. Use `zero_division` parameter to control this behavior.\n",
      "  _warn_prf(average, modifier, msg_start, len(result))\n",
      "C:\\Users\\akshay\\anaconda3\\lib\\site-packages\\sklearn\\metrics\\_classification.py:1318: UndefinedMetricWarning: Precision and F-score are ill-defined and being set to 0.0 in labels with no predicted samples. Use `zero_division` parameter to control this behavior.\n",
      "  _warn_prf(average, modifier, msg_start, len(result))\n",
      "C:\\Users\\akshay\\anaconda3\\lib\\site-packages\\sklearn\\metrics\\_classification.py:1318: UndefinedMetricWarning: Precision and F-score are ill-defined and being set to 0.0 in labels with no predicted samples. Use `zero_division` parameter to control this behavior.\n",
      "  _warn_prf(average, modifier, msg_start, len(result))\n",
      "C:\\Users\\akshay\\anaconda3\\lib\\site-packages\\sklearn\\metrics\\_classification.py:1318: UndefinedMetricWarning: Precision and F-score are ill-defined and being set to 0.0 in labels with no predicted samples. Use `zero_division` parameter to control this behavior.\n",
      "  _warn_prf(average, modifier, msg_start, len(result))\n",
      "C:\\Users\\akshay\\anaconda3\\lib\\site-packages\\sklearn\\metrics\\_classification.py:1318: UndefinedMetricWarning: Precision and F-score are ill-defined and being set to 0.0 in labels with no predicted samples. Use `zero_division` parameter to control this behavior.\n",
      "  _warn_prf(average, modifier, msg_start, len(result))\n"
     ]
    }
   ],
   "source": [
    "from sklearn.tree import DecisionTreeClassifier\n",
    "TREE = DecisionTreeClassifier (criterion= 'gini')\n",
    "TREE.fit(x_train, y_train)\n",
    "TREE_pred = TREE.predict(x_test)\n",
    "print (TREE_pred)\n",
    "print (pd.DataFrame(TREE_pred).groupby(0).agg({0:np.size}))\n",
    "print ('\\n Accuracy score')\n",
    "print (accuracy_score(y_test, TREE_pred))\n",
    "print ('\\n classification report')\n",
    "print (classification_report(y_test, TREE_pred))\n",
    "print ('\\n classification report')\n",
    "print (classification_report(y_test, TREE_pred))\n",
    "print ('\\n confussion matrix')\n",
    "print (confusion_matrix(y_test, TREE_pred))"
   ]
  },
  {
   "cell_type": "code",
   "execution_count": 41,
   "id": "447ae1f6",
   "metadata": {},
   "outputs": [
    {
     "name": "stdout",
     "output_type": "stream",
     "text": [
      "[0 0 0 2 0 0 0 0 0 0 0 0 0 0 0 2 0 0 0 0 1 0 0 0 0 0 0 0 0 0 0 0 2 0 0 0 0\n",
      " 0 1 0 0 0 1 0 0 0 1 0 2 1 2 0 0 0 0 0 0 1 0 0 1 0 0 1 0 0 1 0 0 0 0 0 1 0\n",
      " 0 0 2 0 0 0 1 0 0 0 1 1 1 0 0 1 0 2 2 0 1 0 0 1 0 0 0 0 1 0 0 1 0 1 0 1 1\n",
      " 0 0 0 0 0 1 0 0 0 1 0 0 1 0 0 0 0 1 0 1 1 0 0 1 0 0 0 0 0 0 0 1 1 0 0 0 0\n",
      " 1 2 0 0 0 0 0 1 0 1 0 0 0 1 1 0 1 0 0 1 0 2 0 0 0 0 0 0 0 0 0 0 0 0 0 0 0\n",
      " 0 0 0 1 2 0 0 0 0 1 0 1 0 0 0 0 0 2 0 0 0 0 0 0 0 0 0 0 0 1 1 0 0 0 0 1 0\n",
      " 0 0 0 0 0 0 0 0 0 0 0 1 0 0 0 0 0 0 0 0 0 2 0 0 0 1 1 0 0 0 0 0 1 0 0 0 1\n",
      " 2 0]\n",
      "     0\n",
      "0     \n",
      "0  198\n",
      "1   49\n",
      "2   14\n",
      "\n",
      " Accuracy Score\n",
      "0.9961685823754789\n",
      "\n",
      "Classification Report\n",
      "              precision    recall  f1-score   support\n",
      "\n",
      "           0       1.00      1.00      1.00       198\n",
      "           1       0.98      1.00      0.99        48\n",
      "           2       1.00      1.00      1.00        14\n",
      "           3       0.00      0.00      0.00         1\n",
      "\n",
      "    accuracy                           1.00       261\n",
      "   macro avg       0.74      0.75      0.75       261\n",
      "weighted avg       0.99      1.00      0.99       261\n",
      "\n",
      "Confusion Matrix\n",
      "[[198   0   0   0]\n",
      " [  0  48   0   0]\n",
      " [  0   0  14   0]\n",
      " [  0   1   0   0]]\n"
     ]
    },
    {
     "name": "stderr",
     "output_type": "stream",
     "text": [
      "C:\\Users\\akshay\\anaconda3\\lib\\site-packages\\sklearn\\metrics\\_classification.py:1318: UndefinedMetricWarning: Precision and F-score are ill-defined and being set to 0.0 in labels with no predicted samples. Use `zero_division` parameter to control this behavior.\n",
      "  _warn_prf(average, modifier, msg_start, len(result))\n",
      "C:\\Users\\akshay\\anaconda3\\lib\\site-packages\\sklearn\\metrics\\_classification.py:1318: UndefinedMetricWarning: Precision and F-score are ill-defined and being set to 0.0 in labels with no predicted samples. Use `zero_division` parameter to control this behavior.\n",
      "  _warn_prf(average, modifier, msg_start, len(result))\n",
      "C:\\Users\\akshay\\anaconda3\\lib\\site-packages\\sklearn\\metrics\\_classification.py:1318: UndefinedMetricWarning: Precision and F-score are ill-defined and being set to 0.0 in labels with no predicted samples. Use `zero_division` parameter to control this behavior.\n",
      "  _warn_prf(average, modifier, msg_start, len(result))\n"
     ]
    }
   ],
   "source": [
    "from sklearn.ensemble import RandomForestClassifier\n",
    "RF = RandomForestClassifier(n_estimators=50, criterion='entropy')\n",
    "RF.fit(x_train, y_train)\n",
    "RF_pred = RF.predict(x_test)\n",
    "print (RF_pred)\n",
    "print (pd.DataFrame(RF_pred).groupby(0).agg({0:np.size}))\n",
    "print('\\n Accuracy Score')\n",
    "print (accuracy_score (y_test, RF_pred))\n",
    "print('\\nClassification Report')\n",
    "print (classification_report(y_test, RF_pred))\n",
    "print('Confusion Matrix')\n",
    "print (confusion_matrix(y_test, RF_pred))"
   ]
  },
  {
   "cell_type": "code",
   "execution_count": 43,
   "id": "a86681c2",
   "metadata": {},
   "outputs": [
    {
     "name": "stdout",
     "output_type": "stream",
     "text": [
      "[0 0 0 0 0 0 0 1 0 0 0 0 0 0 0 0 0 0 0 0 1 0 0 0 0 0 0 0 0 0 0 0 0 0 0 0 0\n",
      " 0 1 0 0 0 1 0 0 0 1 0 0 1 0 0 0 0 0 0 0 1 0 0 1 0 0 1 0 0 1 0 0 0 0 0 1 0\n",
      " 0 0 0 0 0 0 1 0 0 0 1 1 1 0 0 0 0 0 0 0 1 0 0 1 0 0 0 0 1 0 0 1 0 1 0 1 1\n",
      " 0 0 0 0 0 1 0 0 0 1 0 0 1 0 0 0 0 1 0 1 1 0 0 1 0 0 0 0 0 0 0 1 1 0 0 0 0\n",
      " 1 0 0 0 0 0 0 1 0 1 0 0 0 1 0 0 1 0 0 1 0 0 0 0 0 0 0 0 0 0 0 0 0 0 0 0 0\n",
      " 0 0 0 1 0 0 0 0 0 1 0 1 0 0 0 0 0 0 0 0 0 0 0 0 0 0 0 0 0 1 1 0 0 0 0 1 0\n",
      " 0 0 0 0 0 0 0 0 0 0 0 1 0 0 0 0 0 0 0 0 0 0 0 0 0 1 1 0 0 0 0 0 1 0 0 0 1\n",
      " 0 0]\n",
      "     0\n",
      "0     \n",
      "0  213\n",
      "1   48\n",
      "\n",
      " Accuracy Score\n",
      "0.9348659003831418\n",
      "\n",
      "Classification Report\n",
      "              precision    recall  f1-score   support\n",
      "\n",
      "           0       0.92      0.99      0.96       198\n",
      "           1       0.98      0.98      0.98        48\n",
      "           2       0.00      0.00      0.00        14\n",
      "           3       0.00      0.00      0.00         1\n",
      "\n",
      "    accuracy                           0.93       261\n",
      "   macro avg       0.48      0.49      0.48       261\n",
      "weighted avg       0.88      0.93      0.91       261\n",
      "\n",
      "Confusion Matrix\n",
      "[[197   1   0   0]\n",
      " [  1  47   0   0]\n",
      " [ 14   0   0   0]\n",
      " [  1   0   0   0]]\n"
     ]
    },
    {
     "name": "stderr",
     "output_type": "stream",
     "text": [
      "C:\\Users\\akshay\\anaconda3\\lib\\site-packages\\sklearn\\metrics\\_classification.py:1318: UndefinedMetricWarning: Precision and F-score are ill-defined and being set to 0.0 in labels with no predicted samples. Use `zero_division` parameter to control this behavior.\n",
      "  _warn_prf(average, modifier, msg_start, len(result))\n",
      "C:\\Users\\akshay\\anaconda3\\lib\\site-packages\\sklearn\\metrics\\_classification.py:1318: UndefinedMetricWarning: Precision and F-score are ill-defined and being set to 0.0 in labels with no predicted samples. Use `zero_division` parameter to control this behavior.\n",
      "  _warn_prf(average, modifier, msg_start, len(result))\n",
      "C:\\Users\\akshay\\anaconda3\\lib\\site-packages\\sklearn\\metrics\\_classification.py:1318: UndefinedMetricWarning: Precision and F-score are ill-defined and being set to 0.0 in labels with no predicted samples. Use `zero_division` parameter to control this behavior.\n",
      "  _warn_prf(average, modifier, msg_start, len(result))\n"
     ]
    }
   ],
   "source": [
    "from sklearn.linear_model import LogisticRegression\n",
    "logmodel = LogisticRegression()\n",
    "logmodel.fit (x_train, y_train)\n",
    "log_pred = logmodel.predict(x_test)\n",
    "print (log_pred)\n",
    "print (pd.DataFrame(log_pred).groupby(0).agg({0 : np.size}))\n",
    "print('\\n Accuracy Score')\n",
    "print (accuracy_score(y_test, log_pred))\n",
    "print('\\nClassification Report')\n",
    "print (classification_report(y_test, log_pred))\n",
    "print('Confusion Matrix')\n",
    "print (confusion_matrix(y_test, log_pred))"
   ]
  },
  {
   "cell_type": "code",
   "execution_count": null,
   "id": "982522c6",
   "metadata": {},
   "outputs": [],
   "source": []
  }
 ],
 "metadata": {
  "kernelspec": {
   "display_name": "Python 3 (ipykernel)",
   "language": "python",
   "name": "python3"
  },
  "language_info": {
   "codemirror_mode": {
    "name": "ipython",
    "version": 3
   },
   "file_extension": ".py",
   "mimetype": "text/x-python",
   "name": "python",
   "nbconvert_exporter": "python",
   "pygments_lexer": "ipython3",
   "version": "3.9.13"
  }
 },
 "nbformat": 4,
 "nbformat_minor": 5
}
